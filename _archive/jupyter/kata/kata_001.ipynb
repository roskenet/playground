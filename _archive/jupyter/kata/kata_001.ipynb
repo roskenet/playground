{
 "cells": [
  {
   "metadata": {},
   "cell_type": "markdown",
   "source": [
    "# Kata 001 \n",
    "\n",
    "This is a test if _jupyter_ is a good tool to solve and archive code kata."
   ],
   "id": "168ecfdd4c912708"
  },
  {
   "metadata": {
    "ExecuteTime": {
     "end_time": "2024-04-11T20:45:06.002590941Z",
     "start_time": "2024-04-11T20:45:05.869185908Z"
    }
   },
   "cell_type": "code",
   "source": [
    "println(\"Hello World!\")\n",
    "\n",
    "\n"
   ],
   "id": "87aed23bf5c6e4d6",
   "outputs": [
    {
     "name": "stdout",
     "output_type": "stream",
     "text": [
      "Hello World!\n"
     ]
    }
   ],
   "execution_count": 2
  },
  {
   "metadata": {},
   "cell_type": "code",
   "outputs": [],
   "execution_count": null,
   "source": "",
   "id": "befc7fba7bd3f982"
  }
 ],
 "metadata": {
  "kernelspec": {
   "display_name": "Kotlin",
   "language": "kotlin",
   "name": "kotlin"
  },
  "language_info": {
   "codemirror_mode": {
    "name": "ipython",
    "version": 2
   },
   "file_extension": ".py",
   "mimetype": "text/x-python",
   "name": "python",
   "nbconvert_exporter": "python",
   "pygments_lexer": "ipython2",
   "version": "2.7.6"
  }
 },
 "nbformat": 4,
 "nbformat_minor": 5
}
