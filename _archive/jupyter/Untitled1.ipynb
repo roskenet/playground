{
 "cells": [
  {
   "cell_type": "code",
   "execution_count": 1,
   "id": "b20696fe-5410-44cd-a2ac-ea0c7a25ec43",
   "metadata": {
    "ExecuteTime": {
     "end_time": "2023-10-13T09:30:26.566440731Z",
     "start_time": "2023-10-13T09:30:26.564604333Z"
    }
   },
   "outputs": [
    {
     "name": "stdout",
     "output_type": "stream",
     "text": [
      "Hello World!\n"
     ]
    }
   ],
   "source": [
    "print('Hello World!')"
   ]
  }
 ],
 "metadata": {
  "kernelspec": {
   "display_name": "Python 3 (ipykernel)",
   "language": "python",
   "name": "python3"
  },
  "language_info": {
   "codemirror_mode": {
    "name": "ipython",
    "version": 3
   },
   "file_extension": ".py",
   "mimetype": "text/x-python",
   "name": "python",
   "nbconvert_exporter": "python",
   "pygments_lexer": "ipython3",
   "version": "3.9.13"
  }
 },
 "nbformat": 4,
 "nbformat_minor": 5
}
