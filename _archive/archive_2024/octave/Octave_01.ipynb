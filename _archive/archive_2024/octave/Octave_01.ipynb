{
 "cells": [
  {
   "cell_type": "code",
   "execution_count": 11,
   "outputs": [
    {
     "name": "stdout",
     "output_type": "stream",
     "text": [
      "\u001B[?2004l\r\n",
      "ans = 5\r\n",
      "\u001B[?2004h\u001B[?2004l\r\n",
      "\u001B[?2004h\u001B[?2004l\r\n",
      "\u001B[?2004h\u001B[?2004l\r\n",
      "\u001B[?2004h\u001B[?2004l\r\n",
      "Variables visible from the current scope:\r\n",
      "\r\n",
      "variables in scope: top scope\r\n",
      "\r\n",
      "  Attr   Name        Size                     Bytes  Class\r\n",
      "  ====   ====        ====                     =====  ===== \r\n",
      "         a           1x1                          8  double\r\n",
      "         ans         1x1                          8  double\r\n",
      "\r\n",
      "Total is 2 elements using 16 bytes\r\n",
      "\r\n",
      "\u001B[?2004h"
     ]
    }
   ],
   "source": [
    "5 % 2\n",
    "\n",
    "a = 2;\n",
    "\n",
    "whos"
   ],
   "metadata": {
    "collapsed": false,
    "ExecuteTime": {
     "end_time": "2023-12-08T10:36:47.566099044Z",
     "start_time": "2023-12-08T10:36:47.031460143Z"
    }
   },
   "id": "685efecd6df70681"
  },
  {
   "cell_type": "code",
   "execution_count": 15,
   "outputs": [
    {
     "name": "stdout",
     "output_type": "stream",
     "text": [
      "\r[?2004l\r\n",
      "A =\r\n",
      "\r\n",
      "   1   2   3\r\n",
      "   4   5   6\r\n",
      "   1   2   4\r\n",
      "\r\n",
      "\u001B[?2004h"
     ]
    }
   ],
   "source": [
    "A = [1 2 3 ; 4 5 6 ; 1 2 4]"
   ],
   "metadata": {
    "collapsed": false,
    "ExecuteTime": {
     "end_time": "2023-12-11T07:55:45.485950747Z",
     "start_time": "2023-12-11T07:55:44.379580573Z"
    }
   },
   "id": "474d6093490a307f"
  },
  {
   "cell_type": "code",
   "execution_count": 32,
   "outputs": [
    {
     "name": "stdout",
     "output_type": "stream",
     "text": [
      "\r[?2004l\r\n",
      "ans =\r\n",
      "\r\n",
      "   3   0   3\r\n",
      "   6   0   6\r\n",
      "   4   0   4\r\n",
      "\r\n",
      "\u001B[?2004h"
     ]
    }
   ],
   "source": [
    "A(:,3) * [1 0 1]"
   ],
   "metadata": {
    "collapsed": false,
    "ExecuteTime": {
     "end_time": "2023-12-11T09:12:44.434731938Z",
     "start_time": "2023-12-11T09:12:42.907732151Z"
    }
   },
   "id": "75389ac43b6065a5"
  }
 ],
 "metadata": {
  "kernelspec": {
   "name": "octave",
   "language": "octave",
   "display_name": "Octave"
  },
  "language_info": {
   "codemirror_mode": {
    "name": "ipython",
    "version": 2
   },
   "file_extension": ".py",
   "mimetype": "text/x-python",
   "name": "python",
   "nbconvert_exporter": "python",
   "pygments_lexer": "ipython2",
   "version": "2.7.6"
  }
 },
 "nbformat": 4,
 "nbformat_minor": 5
}
