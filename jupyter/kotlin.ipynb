{
 "cells": [
  {
   "cell_type": "markdown",
   "source": [
    "# Jupyter Notebook using Kotlin\n",
    "\n",
    "https://github.com/Kotlin/kotlin-jupyter?tab=readme-ov-file#list-of-supported-libraries"
   ],
   "metadata": {
    "collapsed": false
   },
   "id": "3cbf9ebc19964808"
  },
  {
   "cell_type": "code",
   "outputs": [
    {
     "name": "stdout",
     "output_type": "stream",
     "text": [
      "Hello World!\n"
     ]
    }
   ],
   "source": [
    "println(\"Hello World!\")"
   ],
   "metadata": {
    "collapsed": false,
    "ExecuteTime": {
     "end_time": "2024-04-03T20:21:56.700Z",
     "start_time": "2024-04-03T20:21:56.634Z"
    }
   },
   "id": "bbc9ab7a0616945d",
   "execution_count": 4
  }
 ],
 "metadata": {
  "kernelspec": {
   "name": "kotlin",
   "language": "kotlin",
   "display_name": "Kotlin"
  },
  "language_info": {
   "codemirror_mode": {
    "name": "ipython",
    "version": 2
   },
   "file_extension": ".py",
   "mimetype": "text/x-python",
   "name": "python",
   "nbconvert_exporter": "python",
   "pygments_lexer": "ipython2",
   "version": "2.7.6"
  }
 },
 "nbformat": 4,
 "nbformat_minor": 5
}
