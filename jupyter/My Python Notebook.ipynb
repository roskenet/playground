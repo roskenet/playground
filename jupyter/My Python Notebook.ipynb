{
 "cells": [
  {
   "cell_type": "markdown",
   "id": "72062bc6",
   "metadata": {},
   "source": [
    "# Willkommen"
   ]
  },
  {
   "cell_type": "code",
   "execution_count": 1,
   "id": "a7dfb035",
   "metadata": {
    "ExecuteTime": {
     "end_time": "2023-05-06T12:12:26.316380698Z",
     "start_time": "2023-05-06T12:12:26.304627751Z"
    }
   },
   "outputs": [
    {
     "name": "stdout",
     "output_type": "stream",
     "text": [
      "Hello World\n"
     ]
    }
   ],
   "source": [
    "print('Hello World')"
   ]
  },
  {
   "cell_type": "code",
   "execution_count": null,
   "outputs": [],
   "source": [],
   "metadata": {
    "collapsed": false
   }
  }
 ],
 "metadata": {
  "kernelspec": {
   "display_name": "Python 3 (ipykernel)",
   "language": "python",
   "name": "python3"
  },
  "language_info": {
   "codemirror_mode": {
    "name": "ipython",
    "version": 3
   },
   "file_extension": ".py",
   "mimetype": "text/x-python",
   "name": "python",
   "nbconvert_exporter": "python",
   "pygments_lexer": "ipython3",
   "version": "3.9.13"
  }
 },
 "nbformat": 4,
 "nbformat_minor": 5
}
