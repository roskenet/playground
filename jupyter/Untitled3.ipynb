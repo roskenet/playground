{
 "cells": [
  {
   "cell_type": "raw",
   "source": [],
   "metadata": {
    "collapsed": false
   },
   "id": "6b9a24bb812ff736"
  },
  {
   "cell_type": "code",
   "outputs": [
    {
     "name": "stdout",
     "output_type": "stream",
     "text": [
      "[1] Hello World!\n"
     ]
    }
   ],
   "source": [
    "print(\"Hello World!\", quote = FALSE)"
   ],
   "metadata": {
    "collapsed": false,
    "ExecuteTime": {
     "end_time": "2024-03-25T15:25:59.192583819Z",
     "start_time": "2024-03-25T15:25:59.111175040Z"
    }
   },
   "id": "e4457db777ae3d08",
   "execution_count": 2
  }
 ],
 "metadata": {
  "kernelspec": {
   "name": "ir",
   "language": "R",
   "display_name": "R"
  }
 },
 "nbformat": 4,
 "nbformat_minor": 5
}
