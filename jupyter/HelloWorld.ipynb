{
 "cells": [
  {
   "metadata": {},
   "cell_type": "markdown",
   "source": "# Hello World",
   "id": "fa9c5ee052c6bcf0"
  },
  {
   "metadata": {
    "ExecuteTime": {
     "end_time": "2024-07-18T21:58:11.258159Z",
     "start_time": "2024-07-18T21:58:11.251749Z"
    }
   },
   "cell_type": "code",
   "source": "print('Hello World!')",
   "id": "d1c313d12b542d0c",
   "outputs": [
    {
     "name": "stdout",
     "output_type": "stream",
     "text": [
      "Hello World!\n"
     ]
    }
   ],
   "execution_count": 1
  }
 ],
 "metadata": {
  "kernelspec": {
   "display_name": "Python 3",
   "language": "python",
   "name": "python3"
  },
  "language_info": {
   "codemirror_mode": {
    "name": "ipython",
    "version": 2
   },
   "file_extension": ".py",
   "mimetype": "text/x-python",
   "name": "python",
   "nbconvert_exporter": "python",
   "pygments_lexer": "ipython2",
   "version": "2.7.6"
  }
 },
 "nbformat": 4,
 "nbformat_minor": 5
}
