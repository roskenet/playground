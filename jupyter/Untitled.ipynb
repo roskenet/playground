{
 "cells": [
  {
   "cell_type": "code",
   "execution_count": 1,
   "id": "deb23604",
   "metadata": {
    "ExecuteTime": {
     "end_time": "2023-05-07T19:48:24.652767236Z",
     "start_time": "2023-05-07T19:48:24.643354806Z"
    }
   },
   "outputs": [
    {
     "name": "stdout",
     "output_type": "stream",
     "text": [
      "Hello World\n"
     ]
    }
   ],
   "source": [
    "print(\"Hello World\")"
   ]
  }
 ],
 "metadata": {
  "kernelspec": {
   "display_name": "Python 3 (ipykernel)",
   "language": "python",
   "name": "python3"
  },
  "language_info": {
   "codemirror_mode": {
    "name": "ipython",
    "version": 3
   },
   "file_extension": ".py",
   "mimetype": "text/x-python",
   "name": "python",
   "nbconvert_exporter": "python",
   "pygments_lexer": "ipython3",
   "version": "3.8.16"
  }
 },
 "nbformat": 4,
 "nbformat_minor": 5
}
