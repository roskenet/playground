{
 "cells": [
  {
   "cell_type": "code",
   "execution_count": 1,
   "id": "deb23604",
   "metadata": {
    "ExecuteTime": {
     "end_time": "2024-03-25T15:22:14.840365856Z",
     "start_time": "2024-03-25T15:22:14.827832473Z"
    }
   },
   "outputs": [
    {
     "name": "stdout",
     "output_type": "stream",
     "text": [
      "Hello World\n"
     ]
    }
   ],
   "source": [
    "print(\"Hello World\")"
   ]
  },
  {
   "cell_type": "code",
   "execution_count": 2,
   "id": "0d21eb3e",
   "metadata": {
    "ExecuteTime": {
     "end_time": "2024-03-25T15:22:35.552920375Z",
     "start_time": "2024-03-25T15:22:35.531586456Z"
    }
   },
   "outputs": [
    {
     "name": "stdout",
     "output_type": "stream",
     "text": [
      "Hello Again\n"
     ]
    }
   ],
   "source": [
    "print(\"Hello Again\")"
   ]
  }
 ],
 "metadata": {
  "kernelspec": {
   "display_name": "Python 3 (ipykernel)",
   "language": "python",
   "name": "python3"
  },
  "language_info": {
   "codemirror_mode": {
    "name": "ipython",
    "version": 3
   },
   "file_extension": ".py",
   "mimetype": "text/x-python",
   "name": "python",
   "nbconvert_exporter": "python",
   "pygments_lexer": "ipython3",
   "version": "3.11.3"
  }
 },
 "nbformat": 4,
 "nbformat_minor": 5
}
