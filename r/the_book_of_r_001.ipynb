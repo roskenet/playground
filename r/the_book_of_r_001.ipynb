{
 "cells": [
  {
   "cell_type": "markdown",
   "source": [
    "# A Notebook with R"
   ],
   "metadata": {
    "collapsed": false
   }
  },
  {
   "cell_type": "code",
   "execution_count": 9,
   "metadata": {
    "collapsed": true,
    "ExecuteTime": {
     "end_time": "2023-05-06T21:46:07.092918201Z",
     "start_time": "2023-05-06T21:46:07.051242785Z"
    }
   },
   "outputs": [
    {
     "name": "stdout",
     "output_type": "stream",
     "text": [
      "[1] \"Hello World\"\n"
     ]
    },
    {
     "data": {
      "text/html": "'/home/felix/Workspaces/playground/r'",
      "text/markdown": "'/home/felix/Workspaces/playground/r'",
      "text/latex": "'/home/felix/Workspaces/playground/r'",
      "text/plain": "[1] \"/home/felix/Workspaces/playground/r\""
     },
     "metadata": {},
     "output_type": "display_data"
    }
   ],
   "source": [
    "\n",
    "print(\"Hello World\")\n",
    "\n",
    "getwd()"
   ]
  }
 ],
 "metadata": {
  "kernelspec": {
   "name": "ir",
   "language": "R",
   "display_name": "R"
  },
  "language_info": {
   "codemirror_mode": {
    "name": "ipython",
    "version": 2
   },
   "file_extension": ".py",
   "mimetype": "text/x-python",
   "name": "python",
   "nbconvert_exporter": "python",
   "pygments_lexer": "ipython2",
   "version": "2.7.6"
  }
 },
 "nbformat": 4,
 "nbformat_minor": 0
}
