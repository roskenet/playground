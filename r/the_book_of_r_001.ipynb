{
 "cells": [
  {
   "cell_type": "markdown",
   "metadata": {},
   "source": [
    "# A Notebook with R"
   ]
  },
  {
   "cell_type": "code",
   "execution_count": 1,
   "metadata": {
    "ExecuteTime": {
     "end_time": "2023-05-08T21:21:58.497239835Z",
     "start_time": "2023-05-08T21:21:58.407684750Z"
    }
   },
   "outputs": [
    {
     "name": "stdout",
     "output_type": "stream",
     "text": [
      "[1] \"Hello World\"\n"
     ]
    },
    {
     "data": {
      "text/html": "'/home/felix/Workspaces/playground/r'",
      "text/markdown": "'/home/felix/Workspaces/playground/r'",
      "text/latex": "'/home/felix/Workspaces/playground/r'",
      "text/plain": "[1] \"/home/felix/Workspaces/playground/r\""
     },
     "metadata": {},
     "output_type": "display_data"
    }
   ],
   "source": [
    "\n",
    "print(\"Hello World\")\n",
    "\n",
    "getwd()"
   ]
  }
 ],
 "metadata": {
  "kernelspec": {
   "display_name": "R",
   "language": "R",
   "name": "ir"
  },
  "language_info": {
   "codemirror_mode": "r",
   "file_extension": ".r",
   "mimetype": "text/x-r-source",
   "name": "R",
   "pygments_lexer": "r",
   "version": "4.2.0"
  }
 },
 "nbformat": 4,
 "nbformat_minor": 1
}
